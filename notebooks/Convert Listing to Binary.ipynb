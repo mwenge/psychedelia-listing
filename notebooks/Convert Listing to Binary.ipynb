{
 "cells": [
  {
   "cell_type": "code",
   "execution_count": null,
   "metadata": {},
   "outputs": [],
   "source": [
    "\n",
    "\n",
    "\n",
    "\n",
    "\n",
    "\n",
    "\n",
    "\n",
    "\n",
    "\n",
    "\n",
    "\n",
    "\n",
    "\n",
    "\n",
    "\n"
   ]
  },
  {
   "cell_type": "code",
   "execution_count": 1,
   "metadata": {},
   "outputs": [],
   "source": [
    "input_file = open(\"psych-listing-clean.txt\",'r')\n",
    "lines = input_file.readlines()\n",
    "listing = [l[:-1] for l in lines[18:]]\n"
   ]
  },
  {
   "cell_type": "code",
   "execution_count": 2,
   "metadata": {
    "collapsed": true
   },
   "outputs": [
    {
     "data": {
      "text/plain": [
       "(1408, 1408, 98745)"
      ]
     },
     "execution_count": 2,
     "metadata": {},
     "output_type": "execute_result"
    }
   ],
   "source": [
    "flatten = lambda l: [e.strip() for m in l for e in m]\n",
    "decimal_bytes = flatten([l.split(\"DATA \")[1].split(',') for l in listing])\n",
    "dec_array = [int(d) for d in decimal_bytes[:-1]]\n",
    "hex_array = [hex(int(d))[2:].zfill(2) for d in decimal_bytes[:-1]]\n",
    "hex_bytes = [hex(int(d))[2:].upper().zfill(2) for d in decimal_bytes[:-1]]\n",
    "3457-2049,len(dec_array), sum(dec_array)"
   ]
  },
  {
   "cell_type": "code",
   "execution_count": 7,
   "metadata": {},
   "outputs": [],
   "source": [
    "def KnuthMorrisPratt(text, pattern):\n",
    "\n",
    "    '''Yields all starting positions of copies of the pattern in the text.\n",
    "Calling conventions are similar to string.find, but its arguments can be\n",
    "lists or iterators, not just strings, it returns all matches, not just\n",
    "the first one, and it does not need the whole text in memory at once.\n",
    "Whenever it yields, it will have read the text exactly up to and including\n",
    "the match that caused the yield.'''\n",
    "\n",
    "    # allow indexing into pattern and protect against change during yield\n",
    "    pattern = list(pattern)\n",
    "\n",
    "    # build table of shift amounts\n",
    "    shifts = [1] * (len(pattern) + 1)\n",
    "    shift = 1\n",
    "    for pos in range(len(pattern)):\n",
    "        while shift <= pos and pattern[pos] != pattern[pos-shift]:\n",
    "            shift += shifts[pos-shift]\n",
    "        shifts[pos+1] = shift\n",
    "\n",
    "    # do the actual search\n",
    "    startPos = 0\n",
    "    matchLen = 0\n",
    "    for c in text:\n",
    "        while matchLen == len(pattern) or \\\n",
    "              matchLen >= 0 and pattern[matchLen] != c:\n",
    "            startPos += shifts[matchLen]\n",
    "            matchLen -= shifts[matchLen]\n",
    "        matchLen += 1\n",
    "        if matchLen == len(pattern):\n",
    "            yield startPos"
   ]
  },
  {
   "cell_type": "code",
   "execution_count": 10,
   "metadata": {},
   "outputs": [
    {
     "data": {
      "text/plain": [
       "['0b', '08', '0a', '00', '9e', '32', '30', '36', '34', '00']"
      ]
     },
     "execution_count": 10,
     "metadata": {},
     "output_type": "execute_result"
    }
   ],
   "source": [
    "hex_array[:10]"
   ]
  },
  {
   "cell_type": "code",
   "execution_count": 13,
   "metadata": {},
   "outputs": [
    {
     "data": {
      "text/plain": [
       "[287, 1012, 1025]"
      ]
     },
     "execution_count": 13,
     "metadata": {},
     "output_type": "execute_result"
    }
   ],
   "source": [
    "[i for i in KnuthMorrisPratt(hex_array, ['f0','08'])]\n"
   ]
  },
  {
   "cell_type": "code",
   "execution_count": 14,
   "metadata": {},
   "outputs": [
    {
     "data": {
      "text/plain": [
       "['44',\n",
       " 'f0',\n",
       " '08',\n",
       " 'ad',\n",
       " '36',\n",
       " '44',\n",
       " 'd0',\n",
       " '31',\n",
       " 'ee',\n",
       " '36',\n",
       " '44',\n",
       " 'ee',\n",
       " '34',\n",
       " '44',\n",
       " 'ad',\n",
       " '34',\n",
       " '44',\n",
       " '2d',\n",
       " '35',\n",
       " '44',\n",
       " '8d',\n",
       " '34',\n",
       " '44',\n",
       " 'aa',\n",
       " 'bd',\n",
       " '16',\n",
       " '42',\n",
       " 'c9',\n",
       " 'ff',\n",
       " 'd0',\n",
       " '1a',\n",
       " 'ad']"
      ]
     },
     "execution_count": 14,
     "metadata": {},
     "output_type": "execute_result"
    }
   ],
   "source": [
    "hex_array[1024:1056]"
   ]
  },
  {
   "cell_type": "code",
   "execution_count": 7,
   "metadata": {},
   "outputs": [],
   "source": [
    "bin_file = open(\"psychedelia-listing.bin\", 'wb')\n",
    "bin_file.write(bytearray.fromhex(''.join(hex_array)))\n",
    "bin_file.close()"
   ]
  }
 ],
 "metadata": {
  "kernelspec": {
   "display_name": "Python 3 (ipykernel)",
   "language": "python",
   "name": "python3"
  },
  "language_info": {
   "codemirror_mode": {
    "name": "ipython",
    "version": 3
   },
   "file_extension": ".py",
   "mimetype": "text/x-python",
   "name": "python",
   "nbconvert_exporter": "python",
   "pygments_lexer": "ipython3",
   "version": "3.10.12"
  }
 },
 "nbformat": 4,
 "nbformat_minor": 4
}
