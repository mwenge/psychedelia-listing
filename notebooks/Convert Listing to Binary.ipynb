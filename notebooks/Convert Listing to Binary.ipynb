{
 "cells": [
  {
   "cell_type": "code",
   "execution_count": null,
   "metadata": {},
   "outputs": [],
   "source": [
    "\n",
    "\n",
    "\n",
    "\n",
    "\n",
    "\n",
    "\n",
    "\n",
    "\n",
    "\n",
    "\n",
    "\n",
    "\n",
    "\n",
    "\n",
    "\n"
   ]
  },
  {
   "cell_type": "code",
   "execution_count": 12,
   "metadata": {},
   "outputs": [],
   "source": [
    "input_file = open(\"psych-listing-clean.txt\",'r')\n",
    "lines = input_file.readlines()\n",
    "listing = [l[:-1] for l in lines[18:]]\n"
   ]
  },
  {
   "cell_type": "code",
   "execution_count": 13,
   "metadata": {},
   "outputs": [
    {
     "data": {
      "text/plain": [
       "(1408, 1408, 98745)"
      ]
     },
     "execution_count": 13,
     "metadata": {},
     "output_type": "execute_result"
    }
   ],
   "source": [
    "flatten = lambda l: [e.strip() for m in l for e in m]\n",
    "decimal_bytes = flatten([l.split(\"DATA \")[1].split(',') for l in listing])\n",
    "dec_array = [int(d) for d in decimal_bytes[:-1]]\n",
    "hex_array = [hex(int(d))[2:].zfill(2) for d in decimal_bytes[:-1]]\n",
    "hex_bytes = [hex(int(d))[2:].upper().zfill(2) for d in decimal_bytes[:-1]]\n",
    "3457-2049,len(dec_array), sum(dec_array)"
   ]
  },
  {
   "cell_type": "code",
   "execution_count": 7,
   "metadata": {},
   "outputs": [],
   "source": [
    "bin_file = open(\"psychedelia-listing.bin\", 'wb')\n",
    "bin_file.write(bytearray.fromhex(''.join(hex_array)))\n",
    "bin_file.close()"
   ]
  }
 ],
 "metadata": {
  "kernelspec": {
   "display_name": "Python 3",
   "language": "python",
   "name": "python3"
  },
  "language_info": {
   "codemirror_mode": {
    "name": "ipython",
    "version": 3
   },
   "file_extension": ".py",
   "mimetype": "text/x-python",
   "name": "python",
   "nbconvert_exporter": "python",
   "pygments_lexer": "ipython3",
   "version": "3.8.10"
  }
 },
 "nbformat": 4,
 "nbformat_minor": 4
}
